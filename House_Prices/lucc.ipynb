{
 "cells": [
  {
   "cell_type": "code",
   "execution_count": null,
   "metadata": {},
   "outputs": [],
   "source": [
    "import pandas as pd\n",
    "import matplotlib.pyplot as plt\n",
    "import seaborn as sns\n",
    "import numpy as np\n",
    "from scipy.stats import norm\n",
    "from sklearn.preprocessing import StandardScaler\n",
    "from scipy import stats\n",
    "import torch\n",
    "\n",
    "import os\n",
    "os.environ[\"KMP_DUPLICATE_LIB_OK\"] = \"True\"\n",
    "os.environ[\"PYTORCH_ENABLE_MPS_FALLBACK\"] = \"1\""
   ]
  },
  {
   "cell_type": "code",
   "execution_count": null,
   "metadata": {},
   "outputs": [],
   "source": [
    "df_train = pd.read_csv('train.csv')\n",
    "df_test = pd.read_csv('test.csv')\n",
    "\n",
    "# 房价，要拟合的目标值\n",
    "target = df_train['SalePrice']\n",
    "# test_target = df_test['SalePrice']\n",
    "\n",
    "# 输入特征，可以将SalePrice列扔掉\n",
    "df_train.drop(['SalePrice'],axis = 1 , inplace = True)\n",
    "\n",
    "# 将train和test合并到一起，一块进行特征工程，方便预测test的房价\n",
    "combined = pd.concat([df_train,df_test])\n",
    "combined.reset_index(inplace=True)\n",
    "combined.drop(['index', 'Id'], inplace=True, axis=1)"
   ]
  },
  {
   "cell_type": "code",
   "execution_count": null,
   "metadata": {},
   "outputs": [],
   "source": [
    "## 区分 num,str 可以去除 含有缺失值的特征？\n",
    "def exclude_nans(df,col_type):\n",
    "    '''\n",
    "        num : to only get numerical columns with no nans\n",
    "        str : to only get nun-numerical columns with no nans\n",
    "    '''\n",
    "    if (col_type == 'num'):\n",
    "        predictors = df.select_dtypes(exclude=['object'])\n",
    "    elif (col_type == 'str'):\n",
    "        predictors = df.select_dtypes(include=['object'])\n",
    "\n",
    "    cols_with_no_nans = []\n",
    "    for col in predictors.columns:\n",
    "        if not df[col].isnull().any():\n",
    "            cols_with_no_nans.append(col)\n",
    "    return cols_with_no_nans"
   ]
  },
  {
   "cell_type": "code",
   "execution_count": null,
   "metadata": {},
   "outputs": [],
   "source": [
    "num_cols = exclude_nans(combined, 'num')\n",
    "cat_cols = exclude_nans(combined, 'str')\n",
    "combined2 = combined[num_cols + cat_cols]"
   ]
  },
  {
   "cell_type": "code",
   "execution_count": null,
   "metadata": {},
   "outputs": [],
   "source": [
    "#  数据标准化\n",
    "numeric_features = combined2.dtypes[combined2.dtypes != 'object'].index\n",
    "combined2[numeric_features] = combined2[numeric_features].apply(\n",
    "    lambda x: (x - x.mean()) / (x.std()))"
   ]
  },
  {
   "cell_type": "code",
   "execution_count": null,
   "metadata": {},
   "outputs": [],
   "source": [
    "# dummy variables / One-Hot编码 / 离散数值转成指示特征\n",
    "combined3 = pd.get_dummies(combined2,dummy_na=True)"
   ]
  },
  {
   "cell_type": "code",
   "execution_count": null,
   "metadata": {},
   "outputs": [],
   "source": [
    "###  分类数据  转化为 tensor\n",
    "n_train = df_train.shape[0]\n",
    "combined3 = combined3.astype(float)  # numpy强制类型转换\n",
    "train_features = torch.tensor(combined3[:n_train].values, dtype=torch.float)\n",
    "test_features = torch.tensor(combined3[n_train:].values, dtype=torch.float)\n",
    "train_labels = torch.tensor(target.values, dtype=torch.float).view(-1, 1)"
   ]
  },
  {
   "cell_type": "code",
   "execution_count": null,
   "metadata": {},
   "outputs": [],
   "source": [
    "#数据分批\n",
    "batch_size = 32\n",
    "dataset = torch.utils.data.TensorDataset(train_features, train_labels)\n",
    "train_loader = torch.utils.data.DataLoader(dataset,                   # 数据\n",
    "                                          batch_size = batch_size,    # 每个batch大小\n",
    "                                          shuffle = True,             # 是否打乱数据\n",
    "                                          num_workers = 0,            # 工作线程\n",
    "                                          pin_memory = True)\n",
    "print(f\"每一批{len(next(iter(train_loader))[0])}个，一共{len(train_loader)}批\")"
   ]
  },
  {
   "cell_type": "code",
   "execution_count": null,
   "metadata": {},
   "outputs": [],
   "source": [
    "device = torch.device(\"mps\" if torch.backends.mps.is_available() else \"cpu\")\n",
    "# device = torch.device(\"cpu\")"
   ]
  },
  {
   "cell_type": "code",
   "execution_count": null,
   "metadata": {},
   "outputs": [],
   "source": [
    "#定义网络模型\n",
    "class Net(torch.nn.Module):\n",
    "    def __init__(self, in_put, hidden, hidden1, out_put):\n",
    "        super().__init__()\n",
    "        self.linear1 = torch.nn.Linear(in_put, hidden)\n",
    "        self.linear2 = torch.nn.Linear(hidden, hidden1)\n",
    "        self.linear3 = torch.nn.Linear(hidden1, out_put)\n",
    "    def forward(self, data): \n",
    "        x = self.linear1(data)\n",
    "        x = torch.relu(x)\n",
    "        x = self.linear2(x)\n",
    "        x = torch.relu(x)\n",
    "        x = self.linear3(x)\n",
    "        return x"
   ]
  },
  {
   "cell_type": "code",
   "execution_count": null,
   "metadata": {},
   "outputs": [],
   "source": [
    "#取出输入特征个数\n",
    "in_features = train_features.shape[1]\n",
    "hidden, hidden1 ,out_put = 200, 100, 1\n",
    "\n",
    "model = Net(in_features, hidden, hidden1, out_put)\n",
    "model = model.to(device)\n",
    "\n",
    "#损失函数 loss(xi,yi)=(xi−yi)2\n",
    "criterion = torch.nn.MSELoss()\n",
    "\n",
    "#梯度优化算法\n",
    "optimizer = torch.optim.Adam(model.parameters(), lr=0.05)\n",
    "\n",
    "print(\"in_features:\",in_features)\n",
    "print(\"in_features:\",train_features.shape)\n",
    "print(model)"
   ]
  },
  {
   "cell_type": "code",
   "execution_count": null,
   "metadata": {},
   "outputs": [],
   "source": [
    "losses = []\n",
    "accuracies = []\n",
    "epochs = 200\n",
    "\n",
    "for epoch in range(epochs):\n",
    "    loss_sum = 0\n",
    "    for train_batch, labels_batch in train_loader:\n",
    "        train_batch, labels_batch = train_batch.to(device), labels_batch.to(device)\n",
    "        y_pred = model(train_features)\n",
    "        loss = criterion(y_pred, train_labels)\n",
    "        #  显示并记录 loss\n",
    "     \n",
    "        # 计算准确率\n",
    "        # fit the model\n",
    "        # history = model.fit(X_train, y_train, batch_size=32,\n",
    "        #       epochs=epochs, verbose=1, validation_data=(X_test, y_test))\n",
    "        # scores = model.evaluate(X_test, y_test, verbose=0)\n",
    "        # print(\"Accuracy: %.4f\" % (scores[1]))\n",
    "        # accuracies.append(scores[1])\n",
    "        if torch.isnan(loss):\n",
    "            break\n",
    "        # 将模型中各参数的梯度清零。\n",
    "        # PyTorch的backward()方法计算梯度会默认将本次计算的梯度与缓存中已有的梯度加和。\n",
    "        # 必须在反向传播前先清零。\n",
    "        optimizer.zero_grad()\n",
    "    \n",
    "        # 反向传播，计算各参数对于损失loss的梯度\n",
    "        loss.backward()\n",
    "\n",
    "        # 根据刚刚反向传播得到的梯度更新模型参数\n",
    "        optimizer.step()\n",
    "    print(\"epoch:%d ,loss:%.6f\" %(epoch,loss.item()))   \n",
    "    loss_sum += loss.item()  \n",
    "    losses.append(loss_sum)\n",
    "    "
   ]
  },
  {
   "cell_type": "code",
   "execution_count": null,
   "metadata": {},
   "outputs": [],
   "source": [
    "# 绘制loss 绘制accuracy曲线图\n",
    "plt.figure()\n",
    "plt.plot(range(epochs), losses, label='Loss')\n",
    "plt.plot(range(epochs), losses, label='Accuracy')\n",
    "plt.xlabel('Epochs')\n",
    "plt.ylabel('Loss')\n",
    "plt.title('Training Loss and Accuracy ')\n",
    "plt.legend()\n",
    "\n",
    "plt.show()"
   ]
  }
 ],
 "metadata": {
  "kernelspec": {
   "display_name": "16s_py",
   "language": "python",
   "name": "python3"
  },
  "language_info": {
   "codemirror_mode": {
    "name": "ipython",
    "version": 3
   },
   "file_extension": ".py",
   "mimetype": "text/x-python",
   "name": "python",
   "nbconvert_exporter": "python",
   "pygments_lexer": "ipython3",
   "version": "3.10.13"
  }
 },
 "nbformat": 4,
 "nbformat_minor": 2
}
